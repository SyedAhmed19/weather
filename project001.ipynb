{
 "cells": [
  {
   "cell_type": "code",
   "execution_count": null,
   "id": "aa6deb0b-2087-4752-9ad7-37e9168c3e02",
   "metadata": {},
   "outputs": [
    {
     "name": "stdout",
     "output_type": "stream",
     "text": [
      "{\"coord\":{\"lon\":80.2785,\"lat\":13.0878},\"weather\":[{\"id\":802,\"main\":\"Clouds\",\"description\":\"scattered clouds\",\"icon\":\"03d\"}],\"base\":\"stations\",\"main\":{\"temp\":33.21,\"feels_like\":38.29,\"temp_min\":33.21,\"temp_max\":33.21,\"pressure\":1008,\"humidity\":55,\"sea_level\":1008,\"grnd_level\":1007},\"visibility\":10000,\"wind\":{\"speed\":5.16,\"deg\":133,\"gust\":4.35},\"clouds\":{\"all\":40},\"dt\":1746512720,\"sys\":{\"country\":\"IN\",\"sunrise\":1746490566,\"sunset\":1746536092},\"timezone\":19800,\"id\":1264527,\"name\":\"Chennai\",\"cod\":200}\n",
      "{\"coord\":{\"lon\":78.4744,\"lat\":17.3753},\"weather\":[{\"id\":803,\"main\":\"Clouds\",\"description\":\"broken clouds\",\"icon\":\"04d\"}],\"base\":\"stations\",\"main\":{\"temp\":35.46,\"feels_like\":34.71,\"temp_min\":35.46,\"temp_max\":35.46,\"pressure\":1008,\"humidity\":27,\"sea_level\":1008,\"grnd_level\":946},\"visibility\":10000,\"wind\":{\"speed\":1.59,\"deg\":157,\"gust\":1.44},\"clouds\":{\"all\":53},\"dt\":1746512720,\"sys\":{\"country\":\"IN\",\"sunrise\":1746490665,\"sunset\":1746536859},\"timezone\":19800,\"id\":1269843,\"name\":\"Hyderabad\",\"cod\":200}\n"
     ]
    }
   ],
   "source": [
    "import tkinter as tk\n",
    "import requests\n",
    "from tkinter import messagebox\n",
    "\n",
    "def get_weather():\n",
    "    city = city_entry.get()\n",
    "    api_key = \"03ed6f4ed7ba637360f03df5cafd3565\"  # Replace with your OpenWeatherMap API key\n",
    "    url = f\"http://api.openweathermap.org/data/2.5/weather?q={city}&appid={api_key}&units=metric\"\n",
    "\n",
    "    try:\n",
    "        response = requests.get(url)\n",
    "        \n",
    "        # Debug: Print response content for debugging purposes\n",
    "        print(response.text)  # This will show the response content\n",
    "\n",
    "        # If the API call was successful\n",
    "        if response.status_code == 200:\n",
    "            data = response.json()\n",
    "            \n",
    "            # Check if the response contains the required data\n",
    "            if \"main\" in data and \"weather\" in data:\n",
    "                temp = data[\"main\"][\"temp\"]\n",
    "                weather = data[\"weather\"][0][\"description\"].title()\n",
    "                humidity = data[\"main\"][\"humidity\"]\n",
    "                wind_speed = data[\"wind\"][\"speed\"]\n",
    "\n",
    "                # Display result\n",
    "                result = f\"City: {city.title()}\\nTemperature: {temp}°C\\nCondition: {weather}\\nHumidity: {humidity}%\\nWind Speed: {wind_speed} m/s\"\n",
    "                output_label.config(text=result)\n",
    "            else:\n",
    "                raise ValueError(\"Response does not contain the expected data.\")\n",
    "        \n",
    "        else:\n",
    "            # Handle non-200 responses from OpenWeatherMap API\n",
    "            result = f\"Error: City not found or API request failed. Status code: {response.status_code}\"\n",
    "            output_label.config(text=result)\n",
    "\n",
    "    except requests.exceptions.RequestException as e:\n",
    "        # Handle connection or request issues\n",
    "        result = f\"Network Error: {str(e)}\"\n",
    "        output_label.config(text=result)\n",
    "    except Exception as e:\n",
    "        # Handle general errors\n",
    "        result = f\"Unexpected Error: {str(e)}\"\n",
    "        output_label.config(text=result)\n",
    "\n",
    "# GUI Setup\n",
    "root = tk.Tk()\n",
    "root.title(\"Weather App\")\n",
    "root.geometry(\"500x400\")  # Increase window size for better visibility\n",
    "root.configure(bg=\"#f0f8ff\")\n",
    "\n",
    "# Adding a Title Label\n",
    "title_label = tk.Label(root, text=\"Weather Information\", font=(\"Arial\", 18, \"bold\"), bg=\"#f0f8ff\", fg=\"#2196f3\")\n",
    "title_label.pack(pady=20)\n",
    "\n",
    "# Frame for user input\n",
    "input_frame = tk.Frame(root, bg=\"#f0f8ff\")\n",
    "input_frame.pack(pady=10)\n",
    "\n",
    "tk.Label(input_frame, text=\"Enter City:\", font=(\"Arial\", 12), bg=\"#f0f8ff\").grid(row=0, column=0, padx=10, pady=10)\n",
    "\n",
    "city_entry = tk.Entry(input_frame, font=(\"Arial\", 12), width=20, relief=\"solid\", bd=2, borderwidth=1)\n",
    "city_entry.grid(row=0, column=1, padx=10, pady=10)\n",
    "\n",
    "# Button with styling\n",
    "get_weather_button = tk.Button(root, text=\"Get Weather\", command=get_weather, font=(\"Arial\", 14, \"bold\"), bg=\"#2196f3\", fg=\"white\", relief=\"raised\", bd=3)\n",
    "get_weather_button.pack(pady=10)\n",
    "\n",
    "# Output Frame\n",
    "output_frame = tk.Frame(root, bg=\"#f0f8ff\")\n",
    "output_frame.pack(pady=10)\n",
    "\n",
    "output_label = tk.Label(output_frame, text=\"\", font=(\"Arial\", 12), bg=\"#f0f8ff\", justify=\"left\", anchor=\"w\", width=40, height=6)\n",
    "output_label.pack()\n",
    "\n",
    "root.mainloop()\n"
   ]
  },
  {
   "cell_type": "code",
   "execution_count": null,
   "id": "df26f33c-14e8-47a9-b626-121648e0cb56",
   "metadata": {},
   "outputs": [],
   "source": []
  },
  {
   "cell_type": "code",
   "execution_count": null,
   "id": "33da4544-8509-4a28-8950-cdf242a4c4f2",
   "metadata": {},
   "outputs": [],
   "source": []
  }
 ],
 "metadata": {
  "kernelspec": {
   "display_name": "Python 3 (ipykernel)",
   "language": "python",
   "name": "python3"
  },
  "language_info": {
   "codemirror_mode": {
    "name": "ipython",
    "version": 3
   },
   "file_extension": ".py",
   "mimetype": "text/x-python",
   "name": "python",
   "nbconvert_exporter": "python",
   "pygments_lexer": "ipython3",
   "version": "3.12.7"
  }
 },
 "nbformat": 4,
 "nbformat_minor": 5
}
